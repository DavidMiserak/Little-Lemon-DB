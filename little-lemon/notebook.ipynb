{
 "cells": [
  {
   "cell_type": "code",
   "execution_count": 1,
   "id": "7802259f",
   "metadata": {},
   "outputs": [
    {
     "name": "stdout",
     "output_type": "stream",
     "text": [
      "Requirement already satisfied: mysql-connector-python in /usr/local/lib/python3.10/site-packages (9.2.0)\n",
      "\u001b[33mWARNING: Running pip as the 'root' user can result in broken permissions and conflicting behaviour with the system package manager. It is recommended to use a virtual environment instead: https://pip.pypa.io/warnings/venv\u001b[0m\u001b[33m\n",
      "\u001b[0m\n",
      "\u001b[1m[\u001b[0m\u001b[34;49mnotice\u001b[0m\u001b[1;39;49m]\u001b[0m\u001b[39;49m A new release of pip is available: \u001b[0m\u001b[31;49m23.0.1\u001b[0m\u001b[39;49m -> \u001b[0m\u001b[32;49m25.0.1\u001b[0m\n",
      "\u001b[1m[\u001b[0m\u001b[34;49mnotice\u001b[0m\u001b[1;39;49m]\u001b[0m\u001b[39;49m To update, run: \u001b[0m\u001b[32;49mpip install --upgrade pip\u001b[0m\n"
     ]
    }
   ],
   "source": [
    "! pip install mysql-connector-python"
   ]
  },
  {
   "cell_type": "code",
   "execution_count": 2,
   "id": "0e3dd032",
   "metadata": {},
   "outputs": [],
   "source": [
    "import mysql.connector as connector"
   ]
  },
  {
   "cell_type": "code",
   "execution_count": 3,
   "id": "c6906c0a",
   "metadata": {},
   "outputs": [],
   "source": [
    "connection = connector.connect(\n",
    "    user = \"root\",\n",
    "    password = \"123456\",\n",
    "    db = \"LittleLemonDB\")\n",
    "cursor = connection.cursor()\n",
    "cursor.execute(\"USE LittleLemonDB\")"
   ]
  },
  {
   "cell_type": "code",
   "execution_count": 4,
   "id": "b37341e1",
   "metadata": {},
   "outputs": [
    {
     "name": "stdout",
     "output_type": "stream",
     "text": [
      "[('bookings',), ('customer_order_view',), ('customers',), ('delivery',), ('desserts',), ('drinks',), ('entrees',), ('menu',), ('order_view',), ('orders',), ('popular_menu_items',), ('staff',), ('starters',)]\n"
     ]
    }
   ],
   "source": [
    "show_table_query = \"\"\"SHOW TABLES;\"\"\"\n",
    "cursor.execute(show_table_query)\n",
    "print(cursor.fetchall())"
   ]
  },
  {
   "cell_type": "markdown",
   "id": "b9881a45-b809-4af1-9e41-71053dd36789",
   "metadata": {},
   "source": [
    "### Task 3\n",
    "\n",
    "For the third and final task, Little Lemon need you to return specific details from your database. They require the full name and contact details for every customer that has placed an order greater than $60 for a promotional campaign. "
   ]
  },
  {
   "cell_type": "code",
   "execution_count": 5,
   "id": "3422194b",
   "metadata": {},
   "outputs": [
    {
     "name": "stdout",
     "output_type": "stream",
     "text": [
      "('Alice', 'Smith', 1234567890, Decimal('89.91'))\n",
      "('Charlie', 'Brown', 3456789012, Decimal('69.93'))\n",
      "('David', 'White', 4567890123, Decimal('79.92'))\n"
     ]
    }
   ],
   "source": [
    "join_query = \"\"\"\n",
    "SELECT c.first_name, c.last_name, c.phone_number, o.total_cost AS `BillAmount`\n",
    "FROM customers AS c\n",
    "JOIN orders AS o\n",
    "ON c.customer_id = o.customer_id\n",
    "WHERE o.total_cost > 60;\n",
    "\"\"\"\n",
    "\n",
    "cursor.execute(join_query)\n",
    "results = cursor.fetchall()\n",
    "for r in results:\n",
    "    print(r)"
   ]
  }
 ],
 "metadata": {
  "kernelspec": {
   "display_name": "Python 3 (ipykernel)",
   "language": "python",
   "name": "python3"
  },
  "language_info": {
   "codemirror_mode": {
    "name": "ipython",
    "version": 3
   },
   "file_extension": ".py",
   "mimetype": "text/x-python",
   "name": "python",
   "nbconvert_exporter": "python",
   "pygments_lexer": "ipython3",
   "version": "3.10.16"
  }
 },
 "nbformat": 4,
 "nbformat_minor": 5
}
